{
  "metadata": {
    "kernelspec": {
      "display_name": "Python 3",
      "name": "python3"
    },
    "language_info": {
      "name": "python",
      "version": "3.10.12",
      "mimetype": "text/x-python",
      "codemirror_mode": {
        "name": "ipython",
        "version": 3
      },
      "pygments_lexer": "ipython3",
      "nbconvert_exporter": "python",
      "file_extension": ".py"
    },
    "kaggle": {
      "accelerator": "nvidiaTeslaT4",
      "dataSources": [
        {
          "sourceId": 5311975,
          "sourceType": "datasetVersion",
          "datasetId": 3087285
        }
      ],
      "dockerImageVersionId": 30918,
      "isInternetEnabled": true,
      "language": "python",
      "sourceType": "notebook",
      "isGpuEnabled": true
    },
    "colab": {
      "provenance": [],
      "include_colab_link": true
    }
  },
  "nbformat_minor": 0,
  "nbformat": 4,
  "cells": [
    {
      "cell_type": "markdown",
      "metadata": {
        "id": "view-in-github",
        "colab_type": "text"
      },
      "source": [
        "<a href=\"https://colab.research.google.com/github/MK-Sindhu/A2_dl_ed24s401/blob/main/Tentative_assignment_2.ipynb\" target=\"_parent\"><img src=\"https://colab.research.google.com/assets/colab-badge.svg\" alt=\"Open In Colab\"/></a>"
      ]
    },
    {
      "source": [
        "# IMPORTANT: RUN THIS CELL IN ORDER TO IMPORT YOUR KAGGLE DATA SOURCES,\n",
        "# THEN FEEL FREE TO DELETE THIS CELL.\n",
        "# NOTE: THIS NOTEBOOK ENVIRONMENT DIFFERS FROM KAGGLE'S PYTHON\n",
        "# ENVIRONMENT SO THERE MAY BE MISSING LIBRARIES USED BY YOUR\n",
        "# NOTEBOOK.\n",
        "import kagglehub\n",
        "sasukess1_nature_12k_path = kagglehub.dataset_download('sasukess1/nature-12k')\n",
        "\n"
      ],
      "metadata": {
        "id": "1ewY_EXPQvaB"
      },
      "cell_type": "code",
      "outputs": [],
      "execution_count": 2
    },
    {
      "cell_type": "code",
      "source": [
        "import wandb"
      ],
      "metadata": {
        "_uuid": "8f2839f25d086af736a60e9eeb907d3b93b6e0e5",
        "_cell_guid": "b1076dfc-b9ad-4769-8c92-a6c4dae69d19",
        "execution": {
          "iopub.status.busy": "2025-04-03T13:26:23.949556Z",
          "iopub.execute_input": "2025-04-03T13:26:23.949819Z",
          "iopub.status.idle": "2025-04-03T13:26:25.920738Z",
          "shell.execute_reply.started": "2025-04-03T13:26:23.949799Z",
          "shell.execute_reply": "2025-04-03T13:26:25.920119Z"
        },
        "trusted": true,
        "id": "0kVjt8wfQvaD"
      },
      "outputs": [],
      "execution_count": 4
    },
    {
      "cell_type": "code",
      "source": [
        "from torchvision import datasets, transforms\n",
        "from torch.utils.data import DataLoader\n"
      ],
      "metadata": {
        "trusted": true,
        "execution": {
          "iopub.status.busy": "2025-04-03T13:26:25.921632Z",
          "iopub.execute_input": "2025-04-03T13:26:25.921823Z",
          "iopub.status.idle": "2025-04-03T13:26:31.377Z",
          "shell.execute_reply.started": "2025-04-03T13:26:25.921805Z",
          "shell.execute_reply": "2025-04-03T13:26:31.376118Z"
        },
        "id": "4L4QADS5QvaE"
      },
      "outputs": [],
      "execution_count": 5
    },
    {
      "cell_type": "code",
      "source": [
        "!ls /kaggle/input/nature-12k/inaturalist_12K/train"
      ],
      "metadata": {
        "colab": {
          "base_uri": "https://localhost:8080/"
        },
        "id": "kIYOJRZCRmTq",
        "outputId": "e48b99c8-f913-4367-86ec-394cddcd97c2"
      },
      "execution_count": 6,
      "outputs": [
        {
          "output_type": "stream",
          "name": "stdout",
          "text": [
            "Amphibia  Arachnida  Fungi    Mammalia\tPlantae\n",
            "Animalia  Aves\t     Insecta  Mollusca\tReptilia\n"
          ]
        }
      ]
    },
    {
      "cell_type": "markdown",
      "source": [
        "### ANSWER 1"
      ],
      "metadata": {
        "id": "cS_KakIcRr-z"
      }
    },
    {
      "cell_type": "code",
      "source": [
        "# transformations for training and testing\n",
        "transform_train = transforms.Compose([\n",
        "    transforms.Resize((224,224)),\n",
        "    transforms.RandomHorizontalFlip(),\n",
        "    transforms.ToTensor(),\n",
        "    transforms.Normalize((0.5, 0.5, 0.5),\n",
        "                         (0.5, 0.5, 0.5))\n",
        "\n",
        "])\n",
        "transform_test = transforms.Compose([\n",
        "    transforms.Resize((224,224)),\n",
        "    transforms.ToTensor(),\n",
        "    transforms.Normalize((0.5, 0.5, 0.5),\n",
        "                         (0.5, 0.5, 0.5))\n",
        "])\n",
        "\n",
        "\n",
        "\n",
        "train_dataset = datasets.ImageFolder(root='/kaggle/input/nature-12k/inaturalist_12K/train', transform=transform_train)\n",
        "\n",
        "test_dataset = datasets.ImageFolder(root='/kaggle/input/nature-12k/inaturalist_12K/val', transform=transform_test)\n",
        "\n",
        "\n",
        "\n",
        "# Creating Dataloaders\n",
        "\n",
        "train_loader= DataLoader(train_dataset, batch_size=64, shuffle=True, num_workers=2)\n",
        "train_loader= DataLoader(train_dataset, batch_size=64, shuffle=False, num_workers=2)\n",
        "\n"
      ],
      "metadata": {
        "trusted": true,
        "execution": {
          "iopub.status.busy": "2025-04-03T13:26:32.263533Z",
          "iopub.execute_input": "2025-04-03T13:26:32.263998Z",
          "iopub.status.idle": "2025-04-03T13:26:50.563655Z",
          "shell.execute_reply.started": "2025-04-03T13:26:32.263973Z",
          "shell.execute_reply": "2025-04-03T13:26:50.562735Z"
        },
        "id": "iV7K-n-YQvaE"
      },
      "outputs": [],
      "execution_count": 7
    },
    {
      "cell_type": "code",
      "source": [
        "import torch\n",
        "import torch.nn as nn\n",
        "import torch.nn.functional as F"
      ],
      "metadata": {
        "trusted": true,
        "execution": {
          "iopub.status.busy": "2025-04-03T13:26:50.564769Z",
          "iopub.execute_input": "2025-04-03T13:26:50.564989Z",
          "iopub.status.idle": "2025-04-03T13:26:50.568654Z",
          "shell.execute_reply.started": "2025-04-03T13:26:50.564971Z",
          "shell.execute_reply": "2025-04-03T13:26:50.567734Z"
        },
        "id": "nXL1Mo84QvaF"
      },
      "outputs": [],
      "execution_count": 8
    },
    {
      "cell_type": "code",
      "source": [
        "# !pip install thop"
      ],
      "metadata": {
        "trusted": true,
        "execution": {
          "iopub.status.busy": "2025-04-03T13:27:19.956336Z",
          "iopub.execute_input": "2025-04-03T13:27:19.956645Z",
          "iopub.status.idle": "2025-04-03T13:27:23.260377Z",
          "shell.execute_reply.started": "2025-04-03T13:27:19.95662Z",
          "shell.execute_reply": "2025-04-03T13:27:23.25926Z"
        },
        "id": "m-QkRTN3QvaF"
      },
      "outputs": [],
      "execution_count": 9
    },
    {
      "cell_type": "code",
      "source": [
        "Xfrozen_modules='off'"
      ],
      "metadata": {
        "id": "z2X4saNRTG9l"
      },
      "execution_count": 10,
      "outputs": []
    },
    {
      "cell_type": "code",
      "source": [
        "class FlexibleCNN(nn.Module):\n",
        "  def __init__(\n",
        "      self,\n",
        "      in_channels= 3,\n",
        "      conv_channels=[32, 64, 128, 256, 512],\n",
        "      kernel_size= 3,\n",
        "      activation =nn.ReLU,\n",
        "      num_classes=10,\n",
        "      init_image_size=224,\n",
        "      dense_neurons=512\n",
        "    ):\n",
        "\n",
        "    super(FlexibleCNN, self).__init__()\n",
        "\n",
        "    self.activation=activation()\n",
        "\n",
        "    # Building Conv Layers\n",
        "\n",
        "    conv_layers =[]\n",
        "    current_in_channels =in_channels\n",
        "    current_image_size=init_image_size\n",
        "\n",
        "    for out_channels in conv_channels:\n",
        "\n",
        "      # Conv layer\n",
        "      conv_layers.append(nn.Conv2d(\n",
        "          in_channels=current_in_channels,\n",
        "          out_channels=out_channels,\n",
        "          kernel_size=kernel_size,\n",
        "          stride=1,\n",
        "          padding= kernel_size // 2\n",
        "\n",
        "\n",
        "      ))\n",
        "\n",
        "      # Activation\n",
        "      conv_layers.append(activation())\n",
        "\n",
        "      # Max Pooling\n",
        "      conv_layers.append(nn.MaxPool2d(kernel_size=2, stride=2))\n",
        "\n",
        "      # Update for next iteration\n",
        "      current_in_channels = out_channels\n",
        "      current_image_size = current_image_size // 2\n",
        "\n",
        "    # Sequential Combination of all conc layers\n",
        "    self.conv_layers =nn.Sequential(*conv_layers)\n",
        "\n",
        "    # Flattening\n",
        "    flattened_dim = current_in_channels * current_image_size**2\n",
        "\n",
        "    self.fc1 = nn.Linear(flattened_dim, dense_neurons)\n",
        "    self.fc2 = nn.Linear(dense_neurons, num_classes)\n",
        "\n",
        "\n",
        "  def forward(self, x):\n",
        "\n",
        "    # Pass through all conv + pool blocks\n",
        "\n",
        "    x= self.conv_layers(x)\n",
        "\n",
        "    # FLatten\n",
        "    x = x.view(x.size(0), -1)\n",
        "\n",
        "    # Fully layers with activation\n",
        "    x=self.activation(self.fc1(x))\n",
        "    x=self.fc2(x)\n",
        "\n",
        "    return x\n",
        "\n",
        "\n",
        "model = FlexibleCNN(\n",
        "    in_channels=3,\n",
        "    conv_channels=[32, 64, 128, 256, 512],\n",
        "    kernel_size=3,\n",
        "    activation=nn.ReLU,\n",
        "    num_classes=len(train_dataset.classes),  # For iNaturalist or any other dataset\n",
        "    init_image_size=224,  # If your images are resized to 224x224\n",
        "    dense_neurons=1024     # Example size for the penultimate layer\n",
        ")\n",
        "\n",
        "#print(type(model))\n",
        "#\n",
        "device =torch.device('cuda' if torch.cuda.is_available() else 'cpu')\n",
        "model.to(device)\n",
        "\n",
        "# print(type(model))\n",
        "\n",
        "def count_parameters(model):\n",
        "    return sum(p.numel() for p in model.parameters() if p.requires_grad)\n",
        "\n",
        "total_params = count_parameters(model)\n",
        "print(\"Total trainable parameters:\", total_params)\n",
        "\n",
        "from thop import profile\n",
        "\n",
        "# Create a dummy input tensor with batch size 1 and appropriate dimensions\n",
        "dummy_input = torch.randn(1, 3, 224, 224).to(device)\n",
        "macs, params = profile(model, inputs=(dummy_input,), verbose=False)\n",
        "print(\"Total MACs:\", macs)\n"
      ],
      "metadata": {
        "trusted": true,
        "execution": {
          "iopub.status.busy": "2025-04-03T13:27:23.261853Z",
          "iopub.execute_input": "2025-04-03T13:27:23.262104Z",
          "iopub.status.idle": "2025-04-03T13:27:24.143676Z",
          "shell.execute_reply.started": "2025-04-03T13:27:23.262084Z",
          "shell.execute_reply": "2025-04-03T13:27:24.142853Z"
        },
        "id": "UuqK8I4NQvaG",
        "outputId": "510467ea-4b84-4214-8775-875c08fc8bb0",
        "colab": {
          "base_uri": "https://localhost:8080/"
        }
      },
      "outputs": [
        {
          "output_type": "stream",
          "name": "stdout",
          "text": [
            "Total trainable parameters: 27269962\n",
            "Total MACs: 993896448.0\n"
          ]
        }
      ],
      "execution_count": 11
    },
    {
      "cell_type": "markdown",
      "source": [
        "#### QUESTION 2"
      ],
      "metadata": {
        "id": "Ko_XR8fiQvaI"
      }
    },
    {
      "cell_type": "code",
      "source": [
        "from torch.utils.data import random_split"
      ],
      "metadata": {
        "trusted": true,
        "execution": {
          "iopub.status.busy": "2025-04-03T13:27:30.097477Z",
          "iopub.execute_input": "2025-04-03T13:27:30.097759Z",
          "iopub.status.idle": "2025-04-03T13:27:30.101591Z",
          "shell.execute_reply.started": "2025-04-03T13:27:30.097739Z",
          "shell.execute_reply": "2025-04-03T13:27:30.100644Z"
        },
        "id": "o0_LNgzuQvaJ"
      },
      "outputs": [],
      "execution_count": 12
    },
    {
      "cell_type": "code",
      "source": [
        "print(next(model.parameters()).device)\n"
      ],
      "metadata": {
        "trusted": true,
        "execution": {
          "iopub.status.busy": "2025-04-03T13:27:31.684462Z",
          "iopub.execute_input": "2025-04-03T13:27:31.684767Z",
          "iopub.status.idle": "2025-04-03T13:27:31.689214Z",
          "shell.execute_reply.started": "2025-04-03T13:27:31.68474Z",
          "shell.execute_reply": "2025-04-03T13:27:31.688287Z"
        },
        "id": "8GWbvPTwQvaK",
        "outputId": "37808c44-9c23-4242-80aa-908c56920ef0"
      },
      "outputs": [
        {
          "name": "stdout",
          "text": "cuda:0\n",
          "output_type": "stream"
        }
      ],
      "execution_count": null
    },
    {
      "cell_type": "code",
      "source": [
        "# 1. Setup & Directory Check\n",
        "# -------------------------\n",
        "# !ls /kaggle/input/nature-12k  # List dataset structure\n",
        "\n",
        "import wandb\n",
        "import itertools\n",
        "import torch\n",
        "import torch.nn as nn\n",
        "import torch.nn.functional as F\n",
        "from torch.utils.data import DataLoader, random_split\n",
        "from torchvision import datasets, transforms"
      ],
      "metadata": {
        "id": "l8yX-dqNR6un"
      },
      "execution_count": 13,
      "outputs": []
    },
    {
      "cell_type": "code",
      "source": [
        "# 2. Device Setup (GPU)\n",
        "# -------------------------\n",
        "device = torch.device('cuda' if torch.cuda.is_available() else 'cpu')\n",
        "print(\"Using device:\", device)"
      ],
      "metadata": {
        "colab": {
          "base_uri": "https://localhost:8080/"
        },
        "id": "4WDdQBMCTzjC",
        "outputId": "a5922daf-a8d0-4961-c03f-08203ddc1808"
      },
      "execution_count": 14,
      "outputs": [
        {
          "output_type": "stream",
          "name": "stdout",
          "text": [
            "Using device: cuda\n"
          ]
        }
      ]
    },
    {
      "cell_type": "code",
      "source": [
        "# 3. Define Data Transforms\n",
        "# -------------------------\n",
        "transform_train = transforms.Compose([\n",
        "    transforms.Resize((224,224)),\n",
        "    transforms.RandomHorizontalFlip(),\n",
        "    transforms.ToTensor(),\n",
        "    transforms.Normalize((0.5, 0.5, 0.5), (0.5, 0.5, 0.5))\n",
        "])\n",
        "\n",
        "# -------------------------\n",
        "# 4. Load and Split Dataset\n",
        "# -------------------------\n",
        "dataset_path = \"/kaggle/input/nature-12k/inaturalist_12K/train\"\n",
        "full_dataset = datasets.ImageFolder(root=dataset_path, transform=transform_train)\n",
        "print(\"Total images in full_dataset:\", len(full_dataset))\n",
        "print(\"Classes:\", full_dataset.classes)\n",
        "\n",
        "# Split 80% train, 20% validation\n",
        "val_size = int(0.2 * len(full_dataset))\n",
        "train_size = len(full_dataset) - val_size\n",
        "train_subset, val_subset = random_split(full_dataset, [train_size, val_size])\n",
        "print(\"Training samples:\", len(train_subset))\n",
        "print(\"Validation samples:\", len(val_subset))\n"
      ],
      "metadata": {
        "colab": {
          "base_uri": "https://localhost:8080/"
        },
        "id": "qHc-bpcGT66z",
        "outputId": "4d61f8f4-b0e4-44e4-9764-ae896f9f7f08"
      },
      "execution_count": 15,
      "outputs": [
        {
          "output_type": "stream",
          "name": "stdout",
          "text": [
            "Total images in full_dataset: 9999\n",
            "Classes: ['Amphibia', 'Animalia', 'Arachnida', 'Aves', 'Fungi', 'Insecta', 'Mammalia', 'Mollusca', 'Plantae', 'Reptilia']\n",
            "Training samples: 8000\n",
            "Validation samples: 1999\n"
          ]
        }
      ]
    },
    {
      "cell_type": "code",
      "source": [
        "\n",
        "# -------------------------\n",
        "# 5. Define the FlexibleCNN Model\n",
        "# -------------------------\n",
        "class FlexibleCNN(nn.Module):\n",
        "    def __init__(\n",
        "        self,\n",
        "        in_channels=3,\n",
        "        conv_channels=[32, 64, 128, 256, 512],\n",
        "        kernel_size=3,\n",
        "        activation=nn.ReLU,\n",
        "        num_classes=10,\n",
        "        init_image_size=224,\n",
        "        dense_neurons=512,\n",
        "        dropout=0.0\n",
        "    ):\n",
        "        super(FlexibleCNN, self).__init__()\n",
        "        self.activation_fn = activation()\n",
        "        self.dropout_fn = nn.Dropout(dropout)\n",
        "\n",
        "        conv_layers = []\n",
        "        current_in_channels = in_channels\n",
        "        current_img_size = init_image_size\n",
        "\n",
        "        for out_channels in conv_channels:\n",
        "            conv_layers.append(nn.Conv2d(\n",
        "                in_channels=current_in_channels,\n",
        "                out_channels=out_channels,\n",
        "                kernel_size=kernel_size,\n",
        "                stride=1,\n",
        "                padding=kernel_size // 2\n",
        "            ))\n",
        "            conv_layers.append(activation())\n",
        "            conv_layers.append(nn.MaxPool2d(kernel_size=2, stride=2))\n",
        "            current_in_channels = out_channels\n",
        "            current_img_size //= 2\n",
        "\n",
        "        self.conv_layers = nn.Sequential(*conv_layers)\n",
        "        flattened_dim = current_in_channels * (current_img_size ** 2)\n",
        "        self.fc1 = nn.Linear(flattened_dim, dense_neurons)\n",
        "        self.fc2 = nn.Linear(dense_neurons, num_classes)\n",
        "\n",
        "    def forward(self, x):\n",
        "        x = self.conv_layers(x)\n",
        "        x = x.view(x.size(0), -1)  # Flatten\n",
        "        x = self.dropout_fn(self.activation_fn(self.fc1(x)))\n",
        "        x = self.fc2(x)\n",
        "        return x\n",
        "\n",
        "# -------------------------\n",
        "# 6. Define Training Function for One Run\n",
        "# -------------------------\n",
        "def train_and_validate():\n",
        "    # Initialize wandb run; reinit=True ensures multiple runs can be started sequentially\n",
        "    wandb.init(project=\"inaturalist_sweep\", reinit=True)\n",
        "    config = wandb.config\n",
        "\n",
        "    # Map activation function string to actual PyTorch class\n",
        "    act_fn_map = {\n",
        "        'ReLU': nn.ReLU,\n",
        "        'GELU': nn.GELU,\n",
        "        'Silu': nn.SiLU\n",
        "    }\n",
        "\n",
        "    # Build model with hyperparameters from wandb.config\n",
        "    model = FlexibleCNN(\n",
        "        in_channels=3,\n",
        "        conv_channels=config.conv_channels,\n",
        "        kernel_size=3,\n",
        "        activation=act_fn_map[config.activation_fn],\n",
        "        num_classes=len(full_dataset.classes),\n",
        "        init_image_size=224,\n",
        "        dense_neurons=1024,\n",
        "        dropout=config.dropout\n",
        "    ).to(device)\n",
        "\n",
        "    # Define loss function and optimizer\n",
        "    criterion = nn.CrossEntropyLoss()\n",
        "    optimizer = torch.optim.Adam(model.parameters(), lr=config.learning_rate)\n",
        "\n",
        "    # Create DataLoaders for train and validation subsets\n",
        "    train_loader = DataLoader(train_subset, batch_size=config.batch_size, shuffle=True)\n",
        "    val_loader = DataLoader(val_subset, batch_size=config.batch_size, shuffle=False)\n",
        "\n",
        "    # Training loop\n",
        "    for epoch in range(config.epochs):\n",
        "        model.train()\n",
        "        total_loss, correct, total = 0.0, 0, 0\n",
        "\n",
        "        for images, labels in train_loader:\n",
        "            images, labels = images.to(device), labels.to(device)\n",
        "            optimizer.zero_grad()\n",
        "            outputs = model(images)\n",
        "            loss = criterion(outputs, labels)\n",
        "            loss.backward()\n",
        "            optimizer.step()\n",
        "\n",
        "            total_loss += loss.item()\n",
        "            _, predicted = outputs.max(1)\n",
        "            correct += predicted.eq(labels).sum().item()\n",
        "            total += labels.size(0)\n",
        "\n",
        "        train_loss = total_loss / len(train_loader)\n",
        "        train_acc = 100. * correct / total\n",
        "\n",
        "        # Validation loop\n",
        "        model.eval()\n",
        "        val_loss, val_correct, val_total = 0.0, 0, 0\n",
        "        with torch.no_grad():\n",
        "            for images, labels in val_loader:\n",
        "                images, labels = images.to(device), labels.to(device)\n",
        "                outputs = model(images)\n",
        "                loss = criterion(outputs, labels)\n",
        "                val_loss += loss.item()\n",
        "                _, predicted = outputs.max(1)\n",
        "                val_correct += predicted.eq(labels).sum().item()\n",
        "                val_total += labels.size(0)\n",
        "\n",
        "        val_loss /= len(val_loader)\n",
        "        val_acc = 100. * val_correct / val_total\n",
        "\n",
        "        # Print per-epoch metrics\n",
        "        print(f\"Epoch {epoch+1}/{config.epochs} | Train Loss: {train_loss:.4f}, Train Acc: {train_acc:.2f}% | Val Loss: {val_loss:.4f}, Val Acc: {val_acc:.2f}%\")\n",
        "\n",
        "        # Log metrics to wandb\n",
        "        wandb.log({\n",
        "            \"epoch\": epoch,\n",
        "            \"train_loss\": train_loss,\n",
        "            \"train_accuracy\": train_acc,\n",
        "            \"val_loss\": val_loss,\n",
        "            \"val_accuracy\": val_acc\n",
        "        })\n",
        "\n",
        "    wandb.finish()\n",
        "\n",
        "# -------------------------\n",
        "# 7. Define Sweep Configuration and Launch Sweep Agent\n",
        "# -------------------------\n",
        "sweep_config = {\n",
        "    'method': 'bayes',  # Options: 'grid', 'random', or 'bayes'\n",
        "    'metric': {\n",
        "        'name': 'val_accuracy',\n",
        "        'goal': 'maximize'\n",
        "    },\n",
        "    'parameters': {\n",
        "        'learning_rate': {\n",
        "            'min': 0.0001,\n",
        "            'max': 0.01\n",
        "        },\n",
        "        'batch_size': {\n",
        "            'values': [32, 64]\n",
        "        },\n",
        "        'activation_fn': {\n",
        "            'values': ['ReLU', 'GELU', 'Silu']\n",
        "        },\n",
        "        'conv_channels': {\n",
        "            'values': [[32, 64, 128, 256, 512], [64, 64, 64, 64, 64]]\n",
        "        },\n",
        "        'epochs': {\n",
        "            'value': 10  # Fixed number of epochs per run\n",
        "        },\n",
        "        'dropout': {\n",
        "            'values': [0.0, 0.2, 0.3]\n",
        "        }\n",
        "    }\n",
        "}\n",
        "\n",
        "# Initialize sweep and get a sweep ID\n",
        "sweep_id = wandb.sweep(sweep_config, project=\"inaturalist_sweep\")\n",
        "print(\"Sweep ID:\", sweep_id)\n",
        "\n",
        "# Launch the sweep agent with wandb.agent (this will run the training function for the given count of runs)\n",
        "wandb.agent(sweep_id, function=train_and_validate, count=10)\n"
      ],
      "metadata": {
        "colab": {
          "base_uri": "https://localhost:8080/",
          "height": 1000
        },
        "id": "cgZAMNxgUAq4",
        "outputId": "8c15ac25-b61e-4c5c-f84e-287fcb068e58"
      },
      "execution_count": null,
      "outputs": [
        {
          "metadata": {
            "tags": null
          },
          "name": "stdout",
          "output_type": "stream",
          "text": [
            "inaturalist_12K\n",
            "Using device: cuda\n",
            "Total images in full_dataset: 9999\n",
            "Classes: ['Amphibia', 'Animalia', 'Arachnida', 'Aves', 'Fungi', 'Insecta', 'Mammalia', 'Mollusca', 'Plantae', 'Reptilia']\n",
            "Training samples: 8000\n",
            "Validation samples: 1999\n"
          ]
        },
        {
          "metadata": {
            "tags": null
          },
          "name": "stderr",
          "output_type": "stream",
          "text": [
            "\u001b[34m\u001b[1mwandb\u001b[0m: Using wandb-core as the SDK backend.  Please refer to https://wandb.me/wandb-core for more information.\n"
          ]
        },
        {
          "data": {
            "application/javascript": [
              "\n",
              "        window._wandbApiKey = new Promise((resolve, reject) => {\n",
              "            function loadScript(url) {\n",
              "            return new Promise(function(resolve, reject) {\n",
              "                let newScript = document.createElement(\"script\");\n",
              "                newScript.onerror = reject;\n",
              "                newScript.onload = resolve;\n",
              "                document.body.appendChild(newScript);\n",
              "                newScript.src = url;\n",
              "            });\n",
              "            }\n",
              "            loadScript(\"https://cdn.jsdelivr.net/npm/postmate/build/postmate.min.js\").then(() => {\n",
              "            const iframe = document.createElement('iframe')\n",
              "            iframe.style.cssText = \"width:0;height:0;border:none\"\n",
              "            document.body.appendChild(iframe)\n",
              "            const handshake = new Postmate({\n",
              "                container: iframe,\n",
              "                url: 'https://wandb.ai/authorize'\n",
              "            });\n",
              "            const timeout = setTimeout(() => reject(\"Couldn't auto authenticate\"), 5000)\n",
              "            handshake.then(function(child) {\n",
              "                child.on('authorize', data => {\n",
              "                    clearTimeout(timeout)\n",
              "                    resolve(data)\n",
              "                });\n",
              "            });\n",
              "            })\n",
              "        });\n",
              "    "
            ],
            "text/plain": [
              "<IPython.core.display.Javascript object>"
            ]
          },
          "metadata": {},
          "output_type": "display_data"
        },
        {
          "metadata": {
            "tags": null
          },
          "name": "stderr",
          "output_type": "stream",
          "text": [
            "\u001b[34m\u001b[1mwandb\u001b[0m: Logging into wandb.ai. (Learn how to deploy a W&B server locally: https://wandb.me/wandb-server)\n",
            "\u001b[34m\u001b[1mwandb\u001b[0m: You can find your API key in your browser here: https://wandb.ai/authorize\n",
            "wandb: Paste an API key from your profile and hit enter:\u001b[34m\u001b[1mwandb\u001b[0m: \u001b[33mWARNING\u001b[0m If you're specifying your api key in code, ensure this code is not shared publicly.\n",
            "\u001b[34m\u001b[1mwandb\u001b[0m: \u001b[33mWARNING\u001b[0m Consider setting the WANDB_API_KEY environment variable, or running `wandb login` from the command line.\n",
            "\u001b[34m\u001b[1mwandb\u001b[0m: No netrc file found, creating one.\n",
            "\u001b[34m\u001b[1mwandb\u001b[0m: Appending key for api.wandb.ai to your netrc file: /root/.netrc\n"
          ]
        },
        {
          "metadata": {
            "tags": null
          },
          "name": "stdout",
          "output_type": "stream",
          "text": [
            "Create sweep with ID: hrhva050\n",
            "Sweep URL: https://wandb.ai/ed24s401-indian-institute-of-technology-madras/inaturalist_sweep/sweeps/hrhva050\n",
            "Sweep ID: hrhva050\n"
          ]
        },
        {
          "metadata": {
            "tags": null
          },
          "name": "stderr",
          "output_type": "stream",
          "text": [
            "\u001b[34m\u001b[1mwandb\u001b[0m: Agent Starting Run: gajgvkj1 with config:\n",
            "\u001b[34m\u001b[1mwandb\u001b[0m: \tactivation_fn: Silu\n",
            "\u001b[34m\u001b[1mwandb\u001b[0m: \tbatch_size: 32\n",
            "\u001b[34m\u001b[1mwandb\u001b[0m: \tconv_channels: [32, 64, 128, 256, 512]\n",
            "\u001b[34m\u001b[1mwandb\u001b[0m: \tdropout: 0.3\n",
            "\u001b[34m\u001b[1mwandb\u001b[0m: \tepochs: 10\n",
            "\u001b[34m\u001b[1mwandb\u001b[0m: \tlearning_rate: 0.000474664680886281\n",
            "\u001b[34m\u001b[1mwandb\u001b[0m: Currently logged in as: \u001b[33med24s401\u001b[0m (\u001b[33med24s401-indian-institute-of-technology-madras\u001b[0m) to \u001b[32mhttps://api.wandb.ai\u001b[0m. Use \u001b[1m`wandb login --relogin`\u001b[0m to force relogin\n"
          ]
        },
        {
          "data": {
            "text/html": [
              "Ignoring project 'inaturalist_sweep' when running a sweep."
            ],
            "text/plain": [
              "<IPython.core.display.HTML object>"
            ]
          },
          "metadata": {},
          "output_type": "display_data"
        },
        {
          "data": {
            "text/html": [
              "Tracking run with wandb version 0.19.8"
            ],
            "text/plain": [
              "<IPython.core.display.HTML object>"
            ]
          },
          "metadata": {},
          "output_type": "display_data"
        },
        {
          "data": {
            "text/html": [
              "Run data is saved locally in <code>/content/wandb/run-20250403_154236-gajgvkj1</code>"
            ],
            "text/plain": [
              "<IPython.core.display.HTML object>"
            ]
          },
          "metadata": {},
          "output_type": "display_data"
        },
        {
          "data": {
            "text/html": [
              "Syncing run <strong><a href='https://wandb.ai/ed24s401-indian-institute-of-technology-madras/inaturalist_sweep/runs/gajgvkj1' target=\"_blank\">fragrant-sweep-1</a></strong> to <a href='https://wandb.ai/ed24s401-indian-institute-of-technology-madras/inaturalist_sweep' target=\"_blank\">Weights & Biases</a> (<a href='https://wandb.me/developer-guide' target=\"_blank\">docs</a>)<br>Sweep page: <a href='https://wandb.ai/ed24s401-indian-institute-of-technology-madras/inaturalist_sweep/sweeps/hrhva050' target=\"_blank\">https://wandb.ai/ed24s401-indian-institute-of-technology-madras/inaturalist_sweep/sweeps/hrhva050</a>"
            ],
            "text/plain": [
              "<IPython.core.display.HTML object>"
            ]
          },
          "metadata": {},
          "output_type": "display_data"
        },
        {
          "data": {
            "text/html": [
              " View project at <a href='https://wandb.ai/ed24s401-indian-institute-of-technology-madras/inaturalist_sweep' target=\"_blank\">https://wandb.ai/ed24s401-indian-institute-of-technology-madras/inaturalist_sweep</a>"
            ],
            "text/plain": [
              "<IPython.core.display.HTML object>"
            ]
          },
          "metadata": {},
          "output_type": "display_data"
        },
        {
          "data": {
            "text/html": [
              " View sweep at <a href='https://wandb.ai/ed24s401-indian-institute-of-technology-madras/inaturalist_sweep/sweeps/hrhva050' target=\"_blank\">https://wandb.ai/ed24s401-indian-institute-of-technology-madras/inaturalist_sweep/sweeps/hrhva050</a>"
            ],
            "text/plain": [
              "<IPython.core.display.HTML object>"
            ]
          },
          "metadata": {},
          "output_type": "display_data"
        },
        {
          "data": {
            "text/html": [
              " View run at <a href='https://wandb.ai/ed24s401-indian-institute-of-technology-madras/inaturalist_sweep/runs/gajgvkj1' target=\"_blank\">https://wandb.ai/ed24s401-indian-institute-of-technology-madras/inaturalist_sweep/runs/gajgvkj1</a>"
            ],
            "text/plain": [
              "<IPython.core.display.HTML object>"
            ]
          },
          "metadata": {},
          "output_type": "display_data"
        },
        {
          "output_type": "stream",
          "name": "stdout",
          "text": [
            "Epoch 1/10 | Train Loss: 2.1616, Train Acc: 21.73% | Val Loss: 2.0785, Val Acc: 25.81%\n",
            "Epoch 2/10 | Train Loss: 2.0213, Train Acc: 28.31% | Val Loss: 1.9991, Val Acc: 30.52%\n",
            "Epoch 3/10 | Train Loss: 1.9512, Train Acc: 30.96% | Val Loss: 1.9415, Val Acc: 30.92%\n",
            "Epoch 4/10 | Train Loss: 1.8858, Train Acc: 33.51% | Val Loss: 1.9753, Val Acc: 31.62%\n",
            "Epoch 5/10 | Train Loss: 1.8118, Train Acc: 36.01% | Val Loss: 1.9182, Val Acc: 32.37%\n",
            "Epoch 6/10 | Train Loss: 1.7220, Train Acc: 39.36% | Val Loss: 1.8943, Val Acc: 34.47%\n",
            "Epoch 7/10 | Train Loss: 1.5864, Train Acc: 44.76% | Val Loss: 1.8887, Val Acc: 34.77%\n",
            "Epoch 8/10 | Train Loss: 1.3943, Train Acc: 52.11% | Val Loss: 1.9445, Val Acc: 34.52%\n",
            "Epoch 9/10 | Train Loss: 1.1325, Train Acc: 61.51% | Val Loss: 2.0085, Val Acc: 38.92%\n",
            "Epoch 10/10 | Train Loss: 0.8425, Train Acc: 72.36% | Val Loss: 2.4771, Val Acc: 35.77%\n"
          ]
        },
        {
          "output_type": "display_data",
          "data": {
            "text/plain": [
              "<IPython.core.display.HTML object>"
            ],
            "text/html": []
          },
          "metadata": {}
        },
        {
          "output_type": "display_data",
          "data": {
            "text/plain": [
              "<IPython.core.display.HTML object>"
            ],
            "text/html": [
              "<br>    <style><br>        .wandb-row {<br>            display: flex;<br>            flex-direction: row;<br>            flex-wrap: wrap;<br>            justify-content: flex-start;<br>            width: 100%;<br>        }<br>        .wandb-col {<br>            display: flex;<br>            flex-direction: column;<br>            flex-basis: 100%;<br>            flex: 1;<br>            padding: 10px;<br>        }<br>    </style><br><div class=\"wandb-row\"><div class=\"wandb-col\"><h3>Run history:</h3><br/><table class=\"wandb\"><tr><td>epoch</td><td>▁▂▃▃▄▅▆▆▇█</td></tr><tr><td>train_accuracy</td><td>▁▂▂▃▃▃▄▅▇█</td></tr><tr><td>train_loss</td><td>█▇▇▇▆▆▅▄▃▁</td></tr><tr><td>val_accuracy</td><td>▁▄▄▄▅▆▆▆█▆</td></tr><tr><td>val_loss</td><td>▃▂▂▂▁▁▁▂▂█</td></tr></table><br/></div><div class=\"wandb-col\"><h3>Run summary:</h3><br/><table class=\"wandb\"><tr><td>epoch</td><td>9</td></tr><tr><td>train_accuracy</td><td>72.3625</td></tr><tr><td>train_loss</td><td>0.84252</td></tr><tr><td>val_accuracy</td><td>35.76788</td></tr><tr><td>val_loss</td><td>2.47713</td></tr></table><br/></div></div>"
            ]
          },
          "metadata": {}
        },
        {
          "output_type": "display_data",
          "data": {
            "text/plain": [
              "<IPython.core.display.HTML object>"
            ],
            "text/html": [
              " View run <strong style=\"color:#cdcd00\">fragrant-sweep-1</strong> at: <a href='https://wandb.ai/ed24s401-indian-institute-of-technology-madras/inaturalist_sweep/runs/gajgvkj1' target=\"_blank\">https://wandb.ai/ed24s401-indian-institute-of-technology-madras/inaturalist_sweep/runs/gajgvkj1</a><br> View project at: <a href='https://wandb.ai/ed24s401-indian-institute-of-technology-madras/inaturalist_sweep' target=\"_blank\">https://wandb.ai/ed24s401-indian-institute-of-technology-madras/inaturalist_sweep</a><br>Synced 5 W&B file(s), 0 media file(s), 0 artifact file(s) and 0 other file(s)"
            ]
          },
          "metadata": {}
        },
        {
          "output_type": "display_data",
          "data": {
            "text/plain": [
              "<IPython.core.display.HTML object>"
            ],
            "text/html": [
              "Find logs at: <code>./wandb/run-20250403_154236-gajgvkj1/logs</code>"
            ]
          },
          "metadata": {}
        },
        {
          "output_type": "stream",
          "name": "stderr",
          "text": [
            "\u001b[34m\u001b[1mwandb\u001b[0m: Agent Starting Run: iif8nj3n with config:\n",
            "\u001b[34m\u001b[1mwandb\u001b[0m: \tactivation_fn: ReLU\n",
            "\u001b[34m\u001b[1mwandb\u001b[0m: \tbatch_size: 32\n",
            "\u001b[34m\u001b[1mwandb\u001b[0m: \tconv_channels: [64, 64, 64, 64, 64]\n",
            "\u001b[34m\u001b[1mwandb\u001b[0m: \tdropout: 0.2\n",
            "\u001b[34m\u001b[1mwandb\u001b[0m: \tepochs: 10\n",
            "\u001b[34m\u001b[1mwandb\u001b[0m: \tlearning_rate: 0.00925183680775473\n"
          ]
        },
        {
          "output_type": "display_data",
          "data": {
            "text/plain": [
              "<IPython.core.display.HTML object>"
            ],
            "text/html": [
              "Ignoring project 'inaturalist_sweep' when running a sweep."
            ]
          },
          "metadata": {}
        },
        {
          "output_type": "display_data",
          "data": {
            "text/plain": [
              "<IPython.core.display.HTML object>"
            ],
            "text/html": [
              "Tracking run with wandb version 0.19.8"
            ]
          },
          "metadata": {}
        },
        {
          "output_type": "display_data",
          "data": {
            "text/plain": [
              "<IPython.core.display.HTML object>"
            ],
            "text/html": [
              "Run data is saved locally in <code>/content/wandb/run-20250403_160529-iif8nj3n</code>"
            ]
          },
          "metadata": {}
        },
        {
          "output_type": "display_data",
          "data": {
            "text/plain": [
              "<IPython.core.display.HTML object>"
            ],
            "text/html": [
              "Syncing run <strong><a href='https://wandb.ai/ed24s401-indian-institute-of-technology-madras/inaturalist_sweep/runs/iif8nj3n' target=\"_blank\">polished-sweep-2</a></strong> to <a href='https://wandb.ai/ed24s401-indian-institute-of-technology-madras/inaturalist_sweep' target=\"_blank\">Weights & Biases</a> (<a href='https://wandb.me/developer-guide' target=\"_blank\">docs</a>)<br>Sweep page: <a href='https://wandb.ai/ed24s401-indian-institute-of-technology-madras/inaturalist_sweep/sweeps/hrhva050' target=\"_blank\">https://wandb.ai/ed24s401-indian-institute-of-technology-madras/inaturalist_sweep/sweeps/hrhva050</a>"
            ]
          },
          "metadata": {}
        },
        {
          "output_type": "display_data",
          "data": {
            "text/plain": [
              "<IPython.core.display.HTML object>"
            ],
            "text/html": [
              " View project at <a href='https://wandb.ai/ed24s401-indian-institute-of-technology-madras/inaturalist_sweep' target=\"_blank\">https://wandb.ai/ed24s401-indian-institute-of-technology-madras/inaturalist_sweep</a>"
            ]
          },
          "metadata": {}
        },
        {
          "output_type": "display_data",
          "data": {
            "text/plain": [
              "<IPython.core.display.HTML object>"
            ],
            "text/html": [
              " View sweep at <a href='https://wandb.ai/ed24s401-indian-institute-of-technology-madras/inaturalist_sweep/sweeps/hrhva050' target=\"_blank\">https://wandb.ai/ed24s401-indian-institute-of-technology-madras/inaturalist_sweep/sweeps/hrhva050</a>"
            ]
          },
          "metadata": {}
        },
        {
          "output_type": "display_data",
          "data": {
            "text/plain": [
              "<IPython.core.display.HTML object>"
            ],
            "text/html": [
              " View run at <a href='https://wandb.ai/ed24s401-indian-institute-of-technology-madras/inaturalist_sweep/runs/iif8nj3n' target=\"_blank\">https://wandb.ai/ed24s401-indian-institute-of-technology-madras/inaturalist_sweep/runs/iif8nj3n</a>"
            ]
          },
          "metadata": {}
        },
        {
          "output_type": "stream",
          "name": "stdout",
          "text": [
            "Epoch 1/10 | Train Loss: 2.7003, Train Acc: 8.91% | Val Loss: 2.3043, Val Acc: 9.35%\n",
            "Epoch 2/10 | Train Loss: 2.3042, Train Acc: 9.79% | Val Loss: 2.3032, Val Acc: 10.61%\n",
            "Epoch 3/10 | Train Loss: 2.3041, Train Acc: 9.84% | Val Loss: 2.3064, Val Acc: 8.85%\n",
            "Epoch 4/10 | Train Loss: 2.3045, Train Acc: 9.44% | Val Loss: 2.3040, Val Acc: 9.45%\n",
            "Epoch 5/10 | Train Loss: 2.3043, Train Acc: 9.47% | Val Loss: 2.3032, Val Acc: 9.90%\n",
            "Epoch 6/10 | Train Loss: 2.3039, Train Acc: 9.81% | Val Loss: 2.3042, Val Acc: 9.35%\n",
            "Epoch 7/10 | Train Loss: 2.3041, Train Acc: 9.60% | Val Loss: 2.3033, Val Acc: 10.21%\n",
            "Epoch 8/10 | Train Loss: 2.3043, Train Acc: 9.97% | Val Loss: 2.3046, Val Acc: 10.26%\n",
            "Epoch 9/10 | Train Loss: 2.3040, Train Acc: 9.74% | Val Loss: 2.3043, Val Acc: 10.26%\n",
            "Epoch 10/10 | Train Loss: 2.3039, Train Acc: 9.99% | Val Loss: 2.3046, Val Acc: 9.45%\n"
          ]
        },
        {
          "output_type": "display_data",
          "data": {
            "text/plain": [
              "<IPython.core.display.HTML object>"
            ],
            "text/html": []
          },
          "metadata": {}
        },
        {
          "output_type": "display_data",
          "data": {
            "text/plain": [
              "<IPython.core.display.HTML object>"
            ],
            "text/html": [
              "<br>    <style><br>        .wandb-row {<br>            display: flex;<br>            flex-direction: row;<br>            flex-wrap: wrap;<br>            justify-content: flex-start;<br>            width: 100%;<br>        }<br>        .wandb-col {<br>            display: flex;<br>            flex-direction: column;<br>            flex-basis: 100%;<br>            flex: 1;<br>            padding: 10px;<br>        }<br>    </style><br><div class=\"wandb-row\"><div class=\"wandb-col\"><h3>Run history:</h3><br/><table class=\"wandb\"><tr><td>epoch</td><td>▁▂▃▃▄▅▆▆▇█</td></tr><tr><td>train_accuracy</td><td>▁▇▇▄▅▇▅█▆█</td></tr><tr><td>train_loss</td><td>█▁▁▁▁▁▁▁▁▁</td></tr><tr><td>val_accuracy</td><td>▃█▁▃▅▃▆▇▇▃</td></tr><tr><td>val_loss</td><td>▃▁█▃▁▃▁▄▃▄</td></tr></table><br/></div><div class=\"wandb-col\"><h3>Run summary:</h3><br/><table class=\"wandb\"><tr><td>epoch</td><td>9</td></tr><tr><td>train_accuracy</td><td>9.9875</td></tr><tr><td>train_loss</td><td>2.30386</td></tr><tr><td>val_accuracy</td><td>9.45473</td></tr><tr><td>val_loss</td><td>2.30456</td></tr></table><br/></div></div>"
            ]
          },
          "metadata": {}
        },
        {
          "output_type": "display_data",
          "data": {
            "text/plain": [
              "<IPython.core.display.HTML object>"
            ],
            "text/html": [
              " View run <strong style=\"color:#cdcd00\">polished-sweep-2</strong> at: <a href='https://wandb.ai/ed24s401-indian-institute-of-technology-madras/inaturalist_sweep/runs/iif8nj3n' target=\"_blank\">https://wandb.ai/ed24s401-indian-institute-of-technology-madras/inaturalist_sweep/runs/iif8nj3n</a><br> View project at: <a href='https://wandb.ai/ed24s401-indian-institute-of-technology-madras/inaturalist_sweep' target=\"_blank\">https://wandb.ai/ed24s401-indian-institute-of-technology-madras/inaturalist_sweep</a><br>Synced 5 W&B file(s), 0 media file(s), 0 artifact file(s) and 0 other file(s)"
            ]
          },
          "metadata": {}
        },
        {
          "output_type": "display_data",
          "data": {
            "text/plain": [
              "<IPython.core.display.HTML object>"
            ],
            "text/html": [
              "Find logs at: <code>./wandb/run-20250403_160529-iif8nj3n/logs</code>"
            ]
          },
          "metadata": {}
        },
        {
          "output_type": "stream",
          "name": "stderr",
          "text": [
            "\u001b[34m\u001b[1mwandb\u001b[0m: Agent Starting Run: 1ixj5xov with config:\n",
            "\u001b[34m\u001b[1mwandb\u001b[0m: \tactivation_fn: GELU\n",
            "\u001b[34m\u001b[1mwandb\u001b[0m: \tbatch_size: 64\n",
            "\u001b[34m\u001b[1mwandb\u001b[0m: \tconv_channels: [32, 64, 128, 256, 512]\n",
            "\u001b[34m\u001b[1mwandb\u001b[0m: \tdropout: 0.3\n",
            "\u001b[34m\u001b[1mwandb\u001b[0m: \tepochs: 10\n",
            "\u001b[34m\u001b[1mwandb\u001b[0m: \tlearning_rate: 0.0029849234842672947\n"
          ]
        },
        {
          "output_type": "display_data",
          "data": {
            "text/plain": [
              "<IPython.core.display.HTML object>"
            ],
            "text/html": [
              "Ignoring project 'inaturalist_sweep' when running a sweep."
            ]
          },
          "metadata": {}
        },
        {
          "output_type": "display_data",
          "data": {
            "text/plain": [
              "<IPython.core.display.HTML object>"
            ],
            "text/html": [
              "Tracking run with wandb version 0.19.8"
            ]
          },
          "metadata": {}
        },
        {
          "output_type": "display_data",
          "data": {
            "text/plain": [
              "<IPython.core.display.HTML object>"
            ],
            "text/html": [
              "Run data is saved locally in <code>/content/wandb/run-20250403_162750-1ixj5xov</code>"
            ]
          },
          "metadata": {}
        },
        {
          "output_type": "display_data",
          "data": {
            "text/plain": [
              "<IPython.core.display.HTML object>"
            ],
            "text/html": [
              "Syncing run <strong><a href='https://wandb.ai/ed24s401-indian-institute-of-technology-madras/inaturalist_sweep/runs/1ixj5xov' target=\"_blank\">misty-sweep-3</a></strong> to <a href='https://wandb.ai/ed24s401-indian-institute-of-technology-madras/inaturalist_sweep' target=\"_blank\">Weights & Biases</a> (<a href='https://wandb.me/developer-guide' target=\"_blank\">docs</a>)<br>Sweep page: <a href='https://wandb.ai/ed24s401-indian-institute-of-technology-madras/inaturalist_sweep/sweeps/hrhva050' target=\"_blank\">https://wandb.ai/ed24s401-indian-institute-of-technology-madras/inaturalist_sweep/sweeps/hrhva050</a>"
            ]
          },
          "metadata": {}
        },
        {
          "output_type": "display_data",
          "data": {
            "text/plain": [
              "<IPython.core.display.HTML object>"
            ],
            "text/html": [
              " View project at <a href='https://wandb.ai/ed24s401-indian-institute-of-technology-madras/inaturalist_sweep' target=\"_blank\">https://wandb.ai/ed24s401-indian-institute-of-technology-madras/inaturalist_sweep</a>"
            ]
          },
          "metadata": {}
        },
        {
          "output_type": "display_data",
          "data": {
            "text/plain": [
              "<IPython.core.display.HTML object>"
            ],
            "text/html": [
              " View sweep at <a href='https://wandb.ai/ed24s401-indian-institute-of-technology-madras/inaturalist_sweep/sweeps/hrhva050' target=\"_blank\">https://wandb.ai/ed24s401-indian-institute-of-technology-madras/inaturalist_sweep/sweeps/hrhva050</a>"
            ]
          },
          "metadata": {}
        },
        {
          "output_type": "display_data",
          "data": {
            "text/plain": [
              "<IPython.core.display.HTML object>"
            ],
            "text/html": [
              " View run at <a href='https://wandb.ai/ed24s401-indian-institute-of-technology-madras/inaturalist_sweep/runs/1ixj5xov' target=\"_blank\">https://wandb.ai/ed24s401-indian-institute-of-technology-madras/inaturalist_sweep/runs/1ixj5xov</a>"
            ]
          },
          "metadata": {}
        },
        {
          "output_type": "stream",
          "name": "stdout",
          "text": [
            "Epoch 1/10 | Train Loss: 3.2266, Train Acc: 16.00% | Val Loss: 2.1669, Val Acc: 20.41%\n"
          ]
        }
      ]
    },
    {
      "cell_type": "code",
      "source": [
        "# import wandb\n",
        "# import torch\n",
        "# import torch.nn as nn\n",
        "# from torch.utils.data import DataLoader, random_split\n",
        "# from torchvision import datasets, transforms\n",
        "\n",
        "# # Define transforms for training\n",
        "# transform_train = transforms.Compose([\n",
        "#     transforms.Resize((224,224)),\n",
        "#     transforms.RandomHorizontalFlip(),\n",
        "#     transforms.ToTensor(),\n",
        "#     transforms.Normalize((0.5, 0.5, 0.5), (0.5, 0.5, 0.5))\n",
        "# ])\n",
        "\n",
        "# # Load the full dataset from Kaggle input\n",
        "# full_dataset = datasets.ImageFolder(root=\"/kaggle/input/nature-12k/inaturalist_12K/train\", transform=transform_train)\n",
        "\n",
        "# # Split the dataset: 80% train, 20% validation\n",
        "# val_size = int(0.2 * len(full_dataset))\n",
        "# train_size = len(full_dataset) - val_size\n",
        "# train_subset, val_subset = random_split(full_dataset, [train_size, val_size])\n",
        "\n",
        "# # Define the device (GPU if available)\n",
        "# device = torch.device('cuda' if torch.cuda.is_available() else 'cpu')\n",
        "# print(\"Using device:\", device)\n",
        "\n",
        "# # Sweep configuration as a Python dictionary\n",
        "# sweep_config = {\n",
        "#     'method': 'bayes',  # 'grid', 'random', or 'bayes'\n",
        "#     'metric': {\n",
        "#         'name': 'val_accuracy',\n",
        "#         'goal': 'maximize'\n",
        "#     },\n",
        "#     'parameters': {\n",
        "#         'learning_rate': {\n",
        "#             'min': 0.0001,\n",
        "#             'max': 0.01\n",
        "#         },\n",
        "#         'batch_size': {\n",
        "#             'values': [32, 64]\n",
        "#         },\n",
        "#         'activation_fn': {\n",
        "#             'values': ['ReLU', 'GELU', 'Silu']  # Will map these to torch activations\n",
        "#         },\n",
        "#         'conv_channels': {\n",
        "#             'values': [[32, 64, 128, 256, 512], [64, 64, 64, 64, 64]]\n",
        "#         },\n",
        "#         'epochs': {\n",
        "#             'value': 10  # Fixed number of epochs for each run\n",
        "#         },\n",
        "#         'dropout': {\n",
        "#             'values': [0.0, 0.2, 0.3]\n",
        "#         }\n",
        "#     }\n",
        "# }\n",
        "\n",
        "# # Initialize the sweep and obtain a sweep ID\n",
        "# sweep_id = wandb.sweep(sweep_config, project='your_project_name')\n",
        "# print(\"Sweep ID:\", sweep_id)\n",
        "\n",
        "# # Define the training function for each run of the sweep\n",
        "# def train_and_validate():\n",
        "#     # Initialize wandb for this run; configuration is available via wandb.config\n",
        "#     wandb.init()\n",
        "\n",
        "#     # Map string activations to actual PyTorch classes\n",
        "#     act_fn_map = {\n",
        "#         'ReLU': torch.nn.ReLU,\n",
        "#         'GELU': torch.nn.GELU,\n",
        "#         'Silu': torch.nn.SiLU\n",
        "#     }\n",
        "\n",
        "#     config = wandb.config  # Access hyperparameters\n",
        "\n",
        "#     # Build your model (assuming FlexibleCNN is defined and imported)\n",
        "#     model = FlexibleCNN(\n",
        "#         in_channels=3,\n",
        "#         conv_channels=config.conv_channels,\n",
        "#         kernel_size=3,\n",
        "#         activation=act_fn_map[config.activation_fn],\n",
        "#         num_classes=len(full_dataset.classes),\n",
        "#         init_image_size=224,\n",
        "#         dense_neurons=1024  # You can also incorporate dropout if supported by your model\n",
        "#     ).to(device)\n",
        "\n",
        "#     # Define loss and optimizer\n",
        "#     criterion = nn.CrossEntropyLoss()\n",
        "#     optimizer = torch.optim.Adam(model.parameters(), lr=config.learning_rate)\n",
        "\n",
        "#     # Create DataLoaders for training and validation subsets\n",
        "#     train_loader = DataLoader(train_subset, batch_size=config.batch_size, shuffle=True)\n",
        "#     val_loader = DataLoader(val_subset, batch_size=config.batch_size, shuffle=False)\n",
        "\n",
        "#     # Training loop\n",
        "#     for epoch in range(config.epochs):\n",
        "#         model.train()\n",
        "#         total_loss, correct, total = 0.0, 0, 0\n",
        "\n",
        "#         for images, labels in train_loader:\n",
        "#             images, labels = images.to(device), labels.to(device)\n",
        "#             optimizer.zero_grad()\n",
        "#             outputs = model(images)\n",
        "#             loss = criterion(outputs, labels)\n",
        "#             loss.backward()\n",
        "#             optimizer.step()\n",
        "\n",
        "#             total_loss += loss.item()\n",
        "#             _, predicted = outputs.max(1)\n",
        "#             correct += predicted.eq(labels).sum().item()\n",
        "#             total += labels.size(0)\n",
        "\n",
        "#         train_loss_epoch = total_loss / len(train_loader)\n",
        "#         train_accuracy = 100. * correct / total\n",
        "\n",
        "#         # Validation loop\n",
        "#         model.eval()\n",
        "#         val_loss, val_correct, val_total = 0.0, 0, 0\n",
        "\n",
        "#         with torch.no_grad():\n",
        "#             for images, labels in val_loader:\n",
        "#                 images, labels = images.to(device), labels.to(device)\n",
        "#                 outputs = model(images)\n",
        "#                 loss = criterion(outputs, labels)\n",
        "#                 val_loss += loss.item()\n",
        "#                 _, predicted = outputs.max(1)\n",
        "#                 val_correct += predicted.eq(labels).sum().item()\n",
        "#                 val_total += labels.size(0)\n",
        "\n",
        "#         val_loss_epoch = val_loss / len(val_loader)\n",
        "#         val_accuracy = 100. * val_correct / val_total\n",
        "\n",
        "#         # Print epoch details\n",
        "#         print(f\"Epoch {epoch+1}/{config.epochs} | Train Loss: {train_loss_epoch:.4f} | Train Acc: {train_accuracy:.2f}% | Val Loss: {val_loss_epoch:.4f} | Val Acc: {val_accuracy:.2f}%\")\n",
        "\n",
        "#         # Log metrics to wandb\n",
        "#         wandb.log({\n",
        "#             \"epoch\": epoch,\n",
        "#             \"train_loss\": train_loss_epoch,\n",
        "#             \"train_accuracy\": train_accuracy,\n",
        "#             \"val_loss\": val_loss_epoch,\n",
        "#             \"val_accuracy\": val_accuracy\n",
        "#         })\n",
        "\n",
        "#     wandb.finish()\n",
        "\n",
        "# # Launch the agent: run the training function for a total of 10 runs\n",
        "# wandb.agent(sweep_id, function=train_and_validate, count=10)\n"
      ],
      "metadata": {
        "trusted": true,
        "execution": {
          "iopub.status.busy": "2025-04-03T13:27:32.824993Z",
          "iopub.execute_input": "2025-04-03T13:27:32.825298Z"
        },
        "id": "0obh6eqQQvaK",
        "outputId": "7ae91f1d-46c5-4ba0-e42b-9f380181aa0b",
        "colab": {
          "base_uri": "https://localhost:8080/",
          "height": 516
        }
      },
      "outputs": [
        {
          "output_type": "stream",
          "name": "stdout",
          "text": [
            "Using device: cuda\n"
          ]
        },
        {
          "output_type": "stream",
          "name": "stderr",
          "text": [
            "\u001b[34m\u001b[1mwandb\u001b[0m: Using wandb-core as the SDK backend.  Please refer to https://wandb.me/wandb-core for more information.\n"
          ]
        },
        {
          "output_type": "display_data",
          "data": {
            "text/plain": [
              "<IPython.core.display.Javascript object>"
            ],
            "application/javascript": [
              "\n",
              "        window._wandbApiKey = new Promise((resolve, reject) => {\n",
              "            function loadScript(url) {\n",
              "            return new Promise(function(resolve, reject) {\n",
              "                let newScript = document.createElement(\"script\");\n",
              "                newScript.onerror = reject;\n",
              "                newScript.onload = resolve;\n",
              "                document.body.appendChild(newScript);\n",
              "                newScript.src = url;\n",
              "            });\n",
              "            }\n",
              "            loadScript(\"https://cdn.jsdelivr.net/npm/postmate/build/postmate.min.js\").then(() => {\n",
              "            const iframe = document.createElement('iframe')\n",
              "            iframe.style.cssText = \"width:0;height:0;border:none\"\n",
              "            document.body.appendChild(iframe)\n",
              "            const handshake = new Postmate({\n",
              "                container: iframe,\n",
              "                url: 'https://wandb.ai/authorize'\n",
              "            });\n",
              "            const timeout = setTimeout(() => reject(\"Couldn't auto authenticate\"), 5000)\n",
              "            handshake.then(function(child) {\n",
              "                child.on('authorize', data => {\n",
              "                    clearTimeout(timeout)\n",
              "                    resolve(data)\n",
              "                });\n",
              "            });\n",
              "            })\n",
              "        });\n",
              "    "
            ]
          },
          "metadata": {}
        },
        {
          "output_type": "stream",
          "name": "stderr",
          "text": [
            "\u001b[34m\u001b[1mwandb\u001b[0m: Logging into wandb.ai. (Learn how to deploy a W&B server locally: https://wandb.me/wandb-server)\n",
            "\u001b[34m\u001b[1mwandb\u001b[0m: You can find your API key in your browser here: https://wandb.ai/authorize\n",
            "wandb: Paste an API key from your profile and hit enter:\n"
          ]
        },
        {
          "output_type": "error",
          "ename": "Abort",
          "evalue": "",
          "traceback": [
            "\u001b[0;31m---------------------------------------------------------------------------\u001b[0m",
            "\u001b[0;31mAbort\u001b[0m                                     Traceback (most recent call last)",
            "\u001b[0;32m<ipython-input-14-c50f630b3007>\u001b[0m in \u001b[0;36m<cell line: 0>\u001b[0;34m()\u001b[0m\n\u001b[1;32m     56\u001b[0m \u001b[0;34m\u001b[0m\u001b[0m\n\u001b[1;32m     57\u001b[0m \u001b[0;31m# Initialize the sweep and obtain a sweep ID\u001b[0m\u001b[0;34m\u001b[0m\u001b[0;34m\u001b[0m\u001b[0m\n\u001b[0;32m---> 58\u001b[0;31m \u001b[0msweep_id\u001b[0m \u001b[0;34m=\u001b[0m \u001b[0mwandb\u001b[0m\u001b[0;34m.\u001b[0m\u001b[0msweep\u001b[0m\u001b[0;34m(\u001b[0m\u001b[0msweep_config\u001b[0m\u001b[0;34m,\u001b[0m \u001b[0mproject\u001b[0m\u001b[0;34m=\u001b[0m\u001b[0;34m'your_project_name'\u001b[0m\u001b[0;34m)\u001b[0m\u001b[0;34m\u001b[0m\u001b[0;34m\u001b[0m\u001b[0m\n\u001b[0m\u001b[1;32m     59\u001b[0m \u001b[0mprint\u001b[0m\u001b[0;34m(\u001b[0m\u001b[0;34m\"Sweep ID:\"\u001b[0m\u001b[0;34m,\u001b[0m \u001b[0msweep_id\u001b[0m\u001b[0;34m)\u001b[0m\u001b[0;34m\u001b[0m\u001b[0;34m\u001b[0m\u001b[0m\n\u001b[1;32m     60\u001b[0m \u001b[0;34m\u001b[0m\u001b[0m\n",
            "\u001b[0;32m/usr/local/lib/python3.11/dist-packages/wandb/sdk/wandb_sweep.py\u001b[0m in \u001b[0;36msweep\u001b[0;34m(sweep, entity, project, prior_runs)\u001b[0m\n\u001b[1;32m     82\u001b[0m     \u001b[0;31m# Make sure we are logged in\u001b[0m\u001b[0;34m\u001b[0m\u001b[0;34m\u001b[0m\u001b[0m\n\u001b[1;32m     83\u001b[0m     \u001b[0;32mif\u001b[0m \u001b[0mwandb\u001b[0m\u001b[0;34m.\u001b[0m\u001b[0mrun\u001b[0m \u001b[0;32mis\u001b[0m \u001b[0;32mNone\u001b[0m\u001b[0;34m:\u001b[0m\u001b[0;34m\u001b[0m\u001b[0;34m\u001b[0m\u001b[0m\n\u001b[0;32m---> 84\u001b[0;31m         \u001b[0mwandb_login\u001b[0m\u001b[0;34m.\u001b[0m\u001b[0m_login\u001b[0m\u001b[0;34m(\u001b[0m\u001b[0m_silent\u001b[0m\u001b[0;34m=\u001b[0m\u001b[0;32mTrue\u001b[0m\u001b[0;34m)\u001b[0m\u001b[0;34m\u001b[0m\u001b[0;34m\u001b[0m\u001b[0m\n\u001b[0m\u001b[1;32m     85\u001b[0m     \u001b[0mapi\u001b[0m \u001b[0;34m=\u001b[0m \u001b[0mInternalApi\u001b[0m\u001b[0;34m(\u001b[0m\u001b[0;34m)\u001b[0m\u001b[0;34m\u001b[0m\u001b[0;34m\u001b[0m\u001b[0m\n\u001b[1;32m     86\u001b[0m     \u001b[0msweep_id\u001b[0m\u001b[0;34m,\u001b[0m \u001b[0mwarnings\u001b[0m \u001b[0;34m=\u001b[0m \u001b[0mapi\u001b[0m\u001b[0;34m.\u001b[0m\u001b[0mupsert_sweep\u001b[0m\u001b[0;34m(\u001b[0m\u001b[0msweep\u001b[0m\u001b[0;34m,\u001b[0m \u001b[0mprior_runs\u001b[0m\u001b[0;34m=\u001b[0m\u001b[0mprior_runs\u001b[0m\u001b[0;34m)\u001b[0m\u001b[0;34m\u001b[0m\u001b[0;34m\u001b[0m\u001b[0m\n",
            "\u001b[0;32m/usr/local/lib/python3.11/dist-packages/wandb/sdk/wandb_login.py\u001b[0m in \u001b[0;36m_login\u001b[0;34m(anonymous, key, relogin, host, force, timeout, verify, _silent, _disable_warning)\u001b[0m\n\u001b[1;32m    303\u001b[0m             \u001b[0mkey_is_pre_configured\u001b[0m \u001b[0;34m=\u001b[0m \u001b[0;32mTrue\u001b[0m\u001b[0;34m\u001b[0m\u001b[0;34m\u001b[0m\u001b[0m\n\u001b[1;32m    304\u001b[0m         \u001b[0;32melse\u001b[0m\u001b[0;34m:\u001b[0m\u001b[0;34m\u001b[0m\u001b[0;34m\u001b[0m\u001b[0m\n\u001b[0;32m--> 305\u001b[0;31m             \u001b[0mkey\u001b[0m\u001b[0;34m,\u001b[0m \u001b[0mkey_status\u001b[0m \u001b[0;34m=\u001b[0m \u001b[0mwlogin\u001b[0m\u001b[0;34m.\u001b[0m\u001b[0mprompt_api_key\u001b[0m\u001b[0;34m(\u001b[0m\u001b[0;34m)\u001b[0m\u001b[0;34m\u001b[0m\u001b[0;34m\u001b[0m\u001b[0m\n\u001b[0m\u001b[1;32m    306\u001b[0m \u001b[0;34m\u001b[0m\u001b[0m\n\u001b[1;32m    307\u001b[0m     \u001b[0;32mif\u001b[0m \u001b[0mverify\u001b[0m\u001b[0;34m:\u001b[0m\u001b[0;34m\u001b[0m\u001b[0;34m\u001b[0m\u001b[0m\n",
            "\u001b[0;32m/usr/local/lib/python3.11/dist-packages/wandb/sdk/wandb_login.py\u001b[0m in \u001b[0;36mprompt_api_key\u001b[0;34m(self)\u001b[0m\n\u001b[1;32m    225\u001b[0m     \u001b[0;32mdef\u001b[0m \u001b[0mprompt_api_key\u001b[0m\u001b[0;34m(\u001b[0m\u001b[0mself\u001b[0m\u001b[0;34m)\u001b[0m \u001b[0;34m->\u001b[0m \u001b[0mTuple\u001b[0m\u001b[0;34m[\u001b[0m\u001b[0mOptional\u001b[0m\u001b[0;34m[\u001b[0m\u001b[0mstr\u001b[0m\u001b[0;34m]\u001b[0m\u001b[0;34m,\u001b[0m \u001b[0mApiKeyStatus\u001b[0m\u001b[0;34m]\u001b[0m\u001b[0;34m:\u001b[0m\u001b[0;34m\u001b[0m\u001b[0;34m\u001b[0m\u001b[0m\n\u001b[1;32m    226\u001b[0m         \u001b[0;34m\"\"\"Updates the global API key by prompting the user.\"\"\"\u001b[0m\u001b[0;34m\u001b[0m\u001b[0;34m\u001b[0m\u001b[0m\n\u001b[0;32m--> 227\u001b[0;31m         \u001b[0mkey\u001b[0m\u001b[0;34m,\u001b[0m \u001b[0mstatus\u001b[0m \u001b[0;34m=\u001b[0m \u001b[0mself\u001b[0m\u001b[0;34m.\u001b[0m\u001b[0m_prompt_api_key\u001b[0m\u001b[0;34m(\u001b[0m\u001b[0;34m)\u001b[0m\u001b[0;34m\u001b[0m\u001b[0;34m\u001b[0m\u001b[0m\n\u001b[0m\u001b[1;32m    228\u001b[0m         \u001b[0;32mif\u001b[0m \u001b[0mstatus\u001b[0m \u001b[0;34m==\u001b[0m \u001b[0mApiKeyStatus\u001b[0m\u001b[0;34m.\u001b[0m\u001b[0mNOTTY\u001b[0m\u001b[0;34m:\u001b[0m\u001b[0;34m\u001b[0m\u001b[0;34m\u001b[0m\u001b[0m\n\u001b[1;32m    229\u001b[0m             directive = (\n",
            "\u001b[0;32m/usr/local/lib/python3.11/dist-packages/wandb/sdk/wandb_login.py\u001b[0m in \u001b[0;36m_prompt_api_key\u001b[0;34m(self)\u001b[0m\n\u001b[1;32m    204\u001b[0m         \u001b[0;32mwhile\u001b[0m \u001b[0;32mTrue\u001b[0m\u001b[0;34m:\u001b[0m\u001b[0;34m\u001b[0m\u001b[0;34m\u001b[0m\u001b[0m\n\u001b[1;32m    205\u001b[0m             \u001b[0;32mtry\u001b[0m\u001b[0;34m:\u001b[0m\u001b[0;34m\u001b[0m\u001b[0;34m\u001b[0m\u001b[0m\n\u001b[0;32m--> 206\u001b[0;31m                 key = apikey.prompt_api_key(\n\u001b[0m\u001b[1;32m    207\u001b[0m                     \u001b[0mself\u001b[0m\u001b[0;34m.\u001b[0m\u001b[0m_settings\u001b[0m\u001b[0;34m,\u001b[0m\u001b[0;34m\u001b[0m\u001b[0;34m\u001b[0m\u001b[0m\n\u001b[1;32m    208\u001b[0m                     \u001b[0mapi\u001b[0m\u001b[0;34m=\u001b[0m\u001b[0mapi\u001b[0m\u001b[0;34m,\u001b[0m\u001b[0;34m\u001b[0m\u001b[0;34m\u001b[0m\u001b[0m\n",
            "\u001b[0;32m/usr/local/lib/python3.11/dist-packages/wandb/sdk/lib/apikey.py\u001b[0m in \u001b[0;36mprompt_api_key\u001b[0;34m(settings, api, input_callback, browser_callback, no_offline, no_create, local)\u001b[0m\n\u001b[1;32m    169\u001b[0m                 \u001b[0;34mf\"You can find your API key in your browser here: {app_url}/authorize\"\u001b[0m\u001b[0;34m\u001b[0m\u001b[0;34m\u001b[0m\u001b[0m\n\u001b[1;32m    170\u001b[0m             )\n\u001b[0;32m--> 171\u001b[0;31m             \u001b[0mkey\u001b[0m \u001b[0;34m=\u001b[0m \u001b[0minput_callback\u001b[0m\u001b[0;34m(\u001b[0m\u001b[0mapi_ask\u001b[0m\u001b[0;34m)\u001b[0m\u001b[0;34m.\u001b[0m\u001b[0mstrip\u001b[0m\u001b[0;34m(\u001b[0m\u001b[0;34m)\u001b[0m\u001b[0;34m\u001b[0m\u001b[0;34m\u001b[0m\u001b[0m\n\u001b[0m\u001b[1;32m    172\u001b[0m     \u001b[0;32melif\u001b[0m \u001b[0mresult\u001b[0m \u001b[0;34m==\u001b[0m \u001b[0mLOGIN_CHOICE_NOTTY\u001b[0m\u001b[0;34m:\u001b[0m\u001b[0;34m\u001b[0m\u001b[0;34m\u001b[0m\u001b[0m\n\u001b[1;32m    173\u001b[0m         \u001b[0;31m# TODO: Needs refactor as this needs to be handled by caller\u001b[0m\u001b[0;34m\u001b[0m\u001b[0;34m\u001b[0m\u001b[0m\n",
            "\u001b[0;32m/usr/local/lib/python3.11/dist-packages/click/termui.py\u001b[0m in \u001b[0;36mprompt\u001b[0;34m(text, default, hide_input, confirmation_prompt, type, value_proc, prompt_suffix, show_default, err, show_choices)\u001b[0m\n\u001b[1;32m    162\u001b[0m     \u001b[0;32mwhile\u001b[0m \u001b[0;32mTrue\u001b[0m\u001b[0;34m:\u001b[0m\u001b[0;34m\u001b[0m\u001b[0;34m\u001b[0m\u001b[0m\n\u001b[1;32m    163\u001b[0m         \u001b[0;32mwhile\u001b[0m \u001b[0;32mTrue\u001b[0m\u001b[0;34m:\u001b[0m\u001b[0;34m\u001b[0m\u001b[0;34m\u001b[0m\u001b[0m\n\u001b[0;32m--> 164\u001b[0;31m             \u001b[0mvalue\u001b[0m \u001b[0;34m=\u001b[0m \u001b[0mprompt_func\u001b[0m\u001b[0;34m(\u001b[0m\u001b[0mprompt\u001b[0m\u001b[0;34m)\u001b[0m\u001b[0;34m\u001b[0m\u001b[0;34m\u001b[0m\u001b[0m\n\u001b[0m\u001b[1;32m    165\u001b[0m             \u001b[0;32mif\u001b[0m \u001b[0mvalue\u001b[0m\u001b[0;34m:\u001b[0m\u001b[0;34m\u001b[0m\u001b[0;34m\u001b[0m\u001b[0m\n\u001b[1;32m    166\u001b[0m                 \u001b[0;32mbreak\u001b[0m\u001b[0;34m\u001b[0m\u001b[0;34m\u001b[0m\u001b[0m\n",
            "\u001b[0;32m/usr/local/lib/python3.11/dist-packages/click/termui.py\u001b[0m in \u001b[0;36mprompt_func\u001b[0;34m(text)\u001b[0m\n\u001b[1;32m    145\u001b[0m             \u001b[0;32mif\u001b[0m \u001b[0mhide_input\u001b[0m\u001b[0;34m:\u001b[0m\u001b[0;34m\u001b[0m\u001b[0;34m\u001b[0m\u001b[0m\n\u001b[1;32m    146\u001b[0m                 \u001b[0mecho\u001b[0m\u001b[0;34m(\u001b[0m\u001b[0;32mNone\u001b[0m\u001b[0;34m,\u001b[0m \u001b[0merr\u001b[0m\u001b[0;34m=\u001b[0m\u001b[0merr\u001b[0m\u001b[0;34m)\u001b[0m\u001b[0;34m\u001b[0m\u001b[0;34m\u001b[0m\u001b[0m\n\u001b[0;32m--> 147\u001b[0;31m             \u001b[0;32mraise\u001b[0m \u001b[0mAbort\u001b[0m\u001b[0;34m(\u001b[0m\u001b[0;34m)\u001b[0m \u001b[0;32mfrom\u001b[0m \u001b[0;32mNone\u001b[0m\u001b[0;34m\u001b[0m\u001b[0;34m\u001b[0m\u001b[0m\n\u001b[0m\u001b[1;32m    148\u001b[0m \u001b[0;34m\u001b[0m\u001b[0m\n\u001b[1;32m    149\u001b[0m     \u001b[0;32mif\u001b[0m \u001b[0mvalue_proc\u001b[0m \u001b[0;32mis\u001b[0m \u001b[0;32mNone\u001b[0m\u001b[0;34m:\u001b[0m\u001b[0;34m\u001b[0m\u001b[0;34m\u001b[0m\u001b[0m\n",
            "\u001b[0;31mAbort\u001b[0m: "
          ]
        }
      ],
      "execution_count": null
    },
    {
      "cell_type": "code",
      "source": [],
      "metadata": {
        "trusted": true,
        "id": "VvT-B7dVQvaM"
      },
      "outputs": [],
      "execution_count": null
    }
  ]
}